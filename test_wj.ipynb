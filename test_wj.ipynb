{
 "cells": [
  {
   "cell_type": "code",
   "execution_count": null,
   "id": "fadbdfe0",
   "metadata": {},
   "outputs": [],
   "source": [
    "import pandas as pd\n",
    "import yfinance as yf\n",
    "import sqlite3\n",
    "import call_clova.call_clova"
   ]
  },
  {
   "cell_type": "code",
   "execution_count": 2,
   "id": "c5ae2414",
   "metadata": {},
   "outputs": [],
   "source": [
    "conn = sqlite3.connect('finance.db')\n",
    "stock_list = pd.read_sql_query(\"SELECT * FROM stock_list;\", conn)\n",
    "stock_data = pd.read_sql_query(\"SELECT * FROM stock_data;\", conn)\n",
    "conn.close()"
   ]
  },
  {
   "cell_type": "code",
   "execution_count": 22,
   "id": "41a4c477",
   "metadata": {},
   "outputs": [
    {
     "name": "stdout",
     "output_type": "stream",
     "text": [
      "데이터 없음\n"
     ]
    }
   ],
   "source": [
    "import pandas as pd\n",
    "\n",
    "target_date = \"2025-04-05\"\n",
    "target_stock = \"카카오\"\n",
    "# 종가 데이터 필터링\n",
    "close_data = stock_data[stock_data['Price'] == 'Close'].copy()\n",
    "date_cols = [c for c in stock_data.columns if c not in ['Price','Ticker','시장','종목명']]\n",
    "close_data[date_cols] = close_data[date_cols].astype(float)\n",
    "\n",
    "# 이전 날짜 계산\n",
    "prev_date = pd.to_datetime(target_date) - pd.Timedelta(days=1)\n",
    "prev_date = prev_date.strftime('%Y-%m-%d')\n",
    "if target_date not in close_data.columns or prev_date not in close_data.columns:\n",
    "    print(\"데이터 없음\")\n",
    "else:\n",
    "    # 전체 등락률 평균 계산\n",
    "    close_data['등락률'] = (close_data[target_date] - close_data[prev_date]) / close_data[prev_date] * 100\n",
    "    market_avg = close_data['등락률'].mean()\n",
    "\n",
    "    # 대상 종목 등락률 추출\n",
    "    target_row = close_data[close_data['종목명'] == target_stock]\n",
    "    if target_row.empty:\n",
    "        print(\"데이터 없음\")\n",
    "    else:\n",
    "        target_return = target_row['등락률'].values[0]\n",
    "        if target_return > market_avg:\n",
    "            print(\"예\")\n",
    "        else:\n",
    "            print(\"아니오\")"
   ]
  },
  {
   "cell_type": "code",
   "execution_count": 23,
   "id": "c699b1af",
   "metadata": {},
   "outputs": [
    {
     "name": "stdout",
     "output_type": "stream",
     "text": [
      "삼성전자 (0.00%)\n"
     ]
    }
   ],
   "source": [
    "import pandas as pd\n",
    "\n",
    "target_date = \"2025-03-18\"\n",
    "stock1 = \"셀트리온\"\n",
    "stock2 = \"삼성전자\"\n",
    "\n",
    "close_data = stock_data[stock_data['Price'] == 'Close'].copy()\n",
    "date_cols = [c for c in stock_data.columns if c not in ['Price','Ticker','시장','종목명']]\n",
    "close_data[date_cols] = close_data[date_cols].astype(float)\n",
    "\n",
    "# 이전 날짜 계산\n",
    "prev_date = pd.to_datetime(target_date) - pd.Timedelta(days=1)\n",
    "prev_date = prev_date.strftime('%Y-%m-%d')\n",
    "\n",
    "if target_date not in close_data.columns or prev_date not in close_data.columns:\n",
    "    print(\"데이터 없음\")\n",
    "else:\n",
    "    # 종목 필터링 및 등락률 계산\n",
    "    subset = close_data[close_data['종목명'].isin([stock1, stock2])].copy()\n",
    "    if subset.shape[0] < 2:\n",
    "        print(\"데이터 없음\")\n",
    "    else:\n",
    "        subset['등락률'] = (subset[target_date] - subset[prev_date]) / subset[prev_date] * 100\n",
    "        top_row = subset.sort_values(by='등락률', ascending=False).iloc[0]\n",
    "        print(f\"{top_row['종목명']} ({top_row['등락률']:.2f}%)\")"
   ]
  },
  {
   "cell_type": "code",
   "execution_count": null,
   "id": "6ce4cd9f",
   "metadata": {},
   "outputs": [
    {
     "name": "stdout",
     "output_type": "stream",
     "text": [
      "현대차 (176,691원)\n"
     ]
    }
   ],
   "source": [
    "import pandas as pd\n",
    "\n",
    "target_date = \"2025-04-07\"\n",
    "stock1 = \"카카오\"\n",
    "stock2 = \"현대차\"\n",
    "\n",
    "close_data = stock_data[stock_data['Price'] == 'Close'].copy()\n",
    "\n",
    "if target_date not in close_data.columns:\n",
    "    print(\"해당 날짜에 종가 비교 데이터 없음\")\n",
    "else:\n",
    "    close_data = close_data[['종목명', 'Ticker', target_date]]\n",
    "    filtered = close_data[close_data['종목명'].isin([stock1, stock2])]\n",
    "\n",
    "    if filtered.shape[0] < 2:\n",
    "        print(\"해당 날짜에 종가 비교 데이터 없음\")\n",
    "    else:\n",
    "        filtered = filtered.rename(columns={target_date: '종가'})\n",
    "        top_row = filtered.sort_values(by='종가', ascending=False).iloc[0]\n",
    "        print(f'{top_row['종목명']} ({int(top_row['종가']):,}원)')\n"
   ]
  },
  {
   "cell_type": "code",
   "execution_count": 56,
   "id": "c8dbd097",
   "metadata": {},
   "outputs": [
    {
     "name": "stdout",
     "output_type": "stream",
     "text": [
      "709.42\n"
     ]
    }
   ],
   "source": [
    "import pandas as pd\n",
    "\n",
    "ticker_name = \"하이트진로2우B\"\n",
    "target_date = \"2024-09-11\"\n",
    "\n",
    "# stock_data에서 지수 데이터만 필터링 (예: 'KOSPI'라는 가상의 지수 Ticker)\n",
    "import yfinance as yf\n",
    "\n",
    "# KOSPI 지수는 ^KS11, KOSDAQ 지수는 ^KQ11\n",
    "kospi = yf.Ticker(\"^KS11\")\n",
    "kosdaq = yf.Ticker(\"^KQ11\")\n",
    "\n",
    "# 예: kosdaq의 최근 2년치 가격 데이터 가져오기\n",
    "df = kosdaq.history(period=\"2y\")\n",
    "\n",
    "try:\n",
    "    close_price = df.loc[target_date][\"Close\"]\n",
    "    print(f\"{close_price:.2f}\")\n",
    "except:\n",
    "    print('해당 날짜에 존재하는 데이터가 없습니다.')"
   ]
  },
  {
   "cell_type": "code",
   "execution_count": 103,
   "id": "c0b7f006",
   "metadata": {},
   "outputs": [
    {
     "name": "stdout",
     "output_type": "stream",
     "text": [
      "삼성바이오로직스, 삼양식품, 고려아연\n"
     ]
    }
   ],
   "source": [
    "import pandas as pd\n",
    "\n",
    "import pandas as pd\n",
    "\n",
    "target_date = \"2025-03-04\"\n",
    "top_n = 3\n",
    "\n",
    "try:\n",
    "    date_cols = [c for c in stock_data.columns if c not in ['Price','Ticker','시장','종목명']]\n",
    "    close_data = stock_data[(stock_data['Price'] == 'Close') & (stock_data['시장'] == 'KOSPI')].copy()\n",
    "    close_only = close_data[date_cols].astype(float)\n",
    "\n",
    "    close_data['종가'] = close_data[target_date]\n",
    "    top_list = close_data.sort_values(by='종가', ascending=False).head(top_n)\n",
    "    result = top_list['종목명'].tolist()\n",
    "    print(\", \".join(result))\n",
    "except KeyError:\n",
    "    print(\"해당 날짜 데이터 없음\")"
   ]
  },
  {
   "cell_type": "code",
   "execution_count": 8,
   "id": "8bef3231",
   "metadata": {},
   "outputs": [
    {
     "ename": "ValueError",
     "evalue": "Format specifier missing precision",
     "output_type": "error",
     "traceback": [
      "\u001b[31m---------------------------------------------------------------------------\u001b[39m",
      "\u001b[31mValueError\u001b[39m                                Traceback (most recent call last)",
      "\u001b[36mCell\u001b[39m\u001b[36m \u001b[39m\u001b[32mIn[8]\u001b[39m\u001b[32m, line 11\u001b[39m\n\u001b[32m      8\u001b[39m close_only = close_data[date_cols].astype(\u001b[38;5;28mfloat\u001b[39m)\n\u001b[32m     10\u001b[39m price = close_only[target_date].iloc[\u001b[32m0\u001b[39m]\n\u001b[32m---> \u001b[39m\u001b[32m11\u001b[39m \u001b[38;5;28mprint\u001b[39m(\u001b[33mf\u001b[39m\u001b[33m\"\u001b[39m\u001b[38;5;132;43;01m{\u001b[39;49;00m\u001b[43mprice\u001b[49m\u001b[38;5;132;43;01m:\u001b[39;49;00m\u001b[33;43m.f\u001b[39;49m\u001b[38;5;132;43;01m}\u001b[39;49;00m\u001b[33m원\u001b[39m\u001b[33m\"\u001b[39m)\n",
      "\u001b[31mValueError\u001b[39m: Format specifier missing precision"
     ]
    }
   ],
   "source": [
    "import pandas as pd\n",
    "\n",
    "ticker_name = \"롯데지주\"\n",
    "target_date = \"2024-07-05\"\n",
    "\n",
    "date_cols = [c for c in stock_data.columns if c not in ['Price','Ticker','시장','종목명']]\n",
    "close_data = stock_data[(stock_data['Price'] == 'Close') & (stock_data['시장'] == 'KOSPI') & (stock_data['종목명'] == ticker_name)].copy()\n",
    "close_only = close_data[date_cols].astype(float)\n",
    "\n",
    "price = close_only[target_date].iloc[0]\n",
    "print(f\"{price:.f}원\")"
   ]
  }
 ],
 "metadata": {
  "kernelspec": {
   "display_name": ".venv",
   "language": "python",
   "name": "python3"
  },
  "language_info": {
   "codemirror_mode": {
    "name": "ipython",
    "version": 3
   },
   "file_extension": ".py",
   "mimetype": "text/x-python",
   "name": "python",
   "nbconvert_exporter": "python",
   "pygments_lexer": "ipython3",
   "version": "3.12.3"
  }
 },
 "nbformat": 4,
 "nbformat_minor": 5
}
