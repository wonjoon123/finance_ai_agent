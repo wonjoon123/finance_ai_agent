{
 "cells": [
  {
   "cell_type": "code",
   "execution_count": 2,
   "id": "fadbdfe0",
   "metadata": {},
   "outputs": [],
   "source": [
    "import pandas as pd\n",
    "import yfinance as yf\n",
    "import sqlite3"
   ]
  },
  {
   "cell_type": "code",
   "execution_count": 3,
   "id": "c5ae2414",
   "metadata": {},
   "outputs": [],
   "source": [
    "conn = sqlite3.connect('finance.db')\n",
    "stock_list = pd.read_sql_query(\"SELECT * FROM stock_list;\", conn)\n",
    "stock_data = pd.read_sql_query(\"SELECT * FROM stock_data;\", conn)\n",
    "conn.close()"
   ]
  },
  {
   "cell_type": "code",
   "execution_count": 56,
   "id": "c8dbd097",
   "metadata": {},
   "outputs": [
    {
     "name": "stdout",
     "output_type": "stream",
     "text": [
      "709.42\n"
     ]
    }
   ],
   "source": [
    "import pandas as pd\n",
    "\n",
    "ticker_name = \"하이트진로2우B\"\n",
    "target_date = \"2024-09-11\"\n",
    "\n",
    "# stock_data에서 지수 데이터만 필터링 (예: 'KOSPI'라는 가상의 지수 Ticker)\n",
    "import yfinance as yf\n",
    "\n",
    "# KOSPI 지수는 ^KS11, KOSDAQ 지수는 ^KQ11\n",
    "kospi = yf.Ticker(\"^KS11\")\n",
    "kosdaq = yf.Ticker(\"^KQ11\")\n",
    "\n",
    "# 예: kosdaq의 최근 2년치 가격 데이터 가져오기\n",
    "df = kosdaq.history(period=\"2y\")\n",
    "\n",
    "try:\n",
    "    close_price = df.loc[target_date][\"Close\"]\n",
    "    print(f\"{close_price:.2f}\")\n",
    "except:\n",
    "    print('해당 날짜에 존재하는 데이터가 없습니다.')"
   ]
  },
  {
   "cell_type": "code",
   "execution_count": 103,
   "id": "c0b7f006",
   "metadata": {},
   "outputs": [
    {
     "name": "stdout",
     "output_type": "stream",
     "text": [
      "삼성바이오로직스, 삼양식품, 고려아연\n"
     ]
    }
   ],
   "source": [
    "import pandas as pd\n",
    "\n",
    "import pandas as pd\n",
    "\n",
    "target_date = \"2025-03-04\"\n",
    "top_n = 3\n",
    "\n",
    "try:\n",
    "    date_cols = [c for c in stock_data.columns if c not in ['Price','Ticker','시장','종목명']]\n",
    "    close_data = stock_data[(stock_data['Price'] == 'Close') & (stock_data['시장'] == 'KOSPI')].copy()\n",
    "    close_only = close_data[date_cols].astype(float)\n",
    "\n",
    "    close_data['종가'] = close_data[target_date]\n",
    "    top_list = close_data.sort_values(by='종가', ascending=False).head(top_n)\n",
    "    result = top_list['종목명'].tolist()\n",
    "    print(\", \".join(result))\n",
    "except KeyError:\n",
    "    print(\"해당 날짜 데이터 없음\")"
   ]
  },
  {
   "cell_type": "code",
   "execution_count": 8,
   "id": "8bef3231",
   "metadata": {},
   "outputs": [
    {
     "ename": "ValueError",
     "evalue": "Format specifier missing precision",
     "output_type": "error",
     "traceback": [
      "\u001b[31m---------------------------------------------------------------------------\u001b[39m",
      "\u001b[31mValueError\u001b[39m                                Traceback (most recent call last)",
      "\u001b[36mCell\u001b[39m\u001b[36m \u001b[39m\u001b[32mIn[8]\u001b[39m\u001b[32m, line 11\u001b[39m\n\u001b[32m      8\u001b[39m close_only = close_data[date_cols].astype(\u001b[38;5;28mfloat\u001b[39m)\n\u001b[32m     10\u001b[39m price = close_only[target_date].iloc[\u001b[32m0\u001b[39m]\n\u001b[32m---> \u001b[39m\u001b[32m11\u001b[39m \u001b[38;5;28mprint\u001b[39m(\u001b[33mf\u001b[39m\u001b[33m\"\u001b[39m\u001b[38;5;132;43;01m{\u001b[39;49;00m\u001b[43mprice\u001b[49m\u001b[38;5;132;43;01m:\u001b[39;49;00m\u001b[33;43m.f\u001b[39;49m\u001b[38;5;132;43;01m}\u001b[39;49;00m\u001b[33m원\u001b[39m\u001b[33m\"\u001b[39m)\n",
      "\u001b[31mValueError\u001b[39m: Format specifier missing precision"
     ]
    }
   ],
   "source": [
    "import pandas as pd\n",
    "\n",
    "ticker_name = \"롯데지주\"\n",
    "target_date = \"2024-07-05\"\n",
    "\n",
    "date_cols = [c for c in stock_data.columns if c not in ['Price','Ticker','시장','종목명']]\n",
    "close_data = stock_data[(stock_data['Price'] == 'Close') & (stock_data['시장'] == 'KOSPI') & (stock_data['종목명'] == ticker_name)].copy()\n",
    "close_only = close_data[date_cols].astype(float)\n",
    "\n",
    "price = close_only[target_date].iloc[0]\n",
    "print(f\"{price:.f}원\")"
   ]
  }
 ],
 "metadata": {
  "kernelspec": {
   "display_name": ".venv",
   "language": "python",
   "name": "python3"
  },
  "language_info": {
   "codemirror_mode": {
    "name": "ipython",
    "version": 3
   },
   "file_extension": ".py",
   "mimetype": "text/x-python",
   "name": "python",
   "nbconvert_exporter": "python",
   "pygments_lexer": "ipython3",
   "version": "3.12.3"
  }
 },
 "nbformat": 4,
 "nbformat_minor": 5
}
