{
 "cells": [
  {
   "cell_type": "code",
   "execution_count": 1,
   "id": "d24c1e60",
   "metadata": {},
   "outputs": [],
   "source": [
    "import pandas as pd\n",
    "import sqlite3"
   ]
  },
  {
   "cell_type": "code",
   "execution_count": 2,
   "id": "3cad5cef",
   "metadata": {},
   "outputs": [],
   "source": [
    "conn = sqlite3.connect('finance.db')\n",
    "stock_list = pd.read_sql_query(\"SELECT * FROM stock_list;\", conn)\n",
    "stock_data = pd.read_sql_query(\"SELECT * FROM stock_data;\", conn)\n",
    "conn.close()"
   ]
  },
  {
   "cell_type": "code",
   "execution_count": 12,
   "id": "453b562c",
   "metadata": {},
   "outputs": [
    {
     "name": "stdout",
     "output_type": "stream",
     "text": [
      "['휴스틸', '율촌화학', '동양철관', '태영건설우', '화천기계', '평화홀딩스', '삼화전자', '동원개발', '사조씨푸드', '신풍제약', '세원정공', '태광', '서울전자통신', '엔씨소프트', '파세코', '화성밸브', 'KD', '대동스틸', '대원미디어', '지어소프트', 'CJ프레시웨이', '메디콕스', '테이팩스', '시지메드텍', '세아홀딩스', '드림어스컴퍼니', '산일전기', '빛과전자', '하이스틸', '텔코웨어', '메디톡스', 'THE E&M', '넥스틸', '형지엘리트', 'SK이노베이션', 'SK이노베이션우', '한국화장품', '선진', '유티아이', '오늘이엔엠', '노바렉스', '미스터블루', 'FSN', '케어젠', '제테마', '티앤알바이오팹', '펌텍코리아', '실리콘투', '케일럼', '유틸렉스', '네오펙트', '압타바이오', '세아제강', '비투엔', '셀비온', '퀀타매트릭스', '프레스티지바이오로직스', '두산퓨얼셀2우B', '에이텀', '티와이홀딩스', '티와이홀딩스우', '지에프씨생명과학', '삐아', '에스엠씨지', '미트박스', '잉글우드랩', '프레스티지바이오파마']\n"
     ]
    }
   ],
   "source": [
    "import pandas as pd\n",
    "\n",
    "target_date = \"2025-06-30\"\n",
    "price_threshold = 5 / 100\n",
    "volume_threshold = 150 / 100\n",
    "\n",
    "date_cols = [c for c in stock_data.columns if c not in ['Price','Ticker','시장','종목명']]\n",
    "\n",
    "close_data = stock_data[stock_data['Price'] == 'Close'].copy()\n",
    "close_only = close_data[date_cols].astype(float)\n",
    "\n",
    "prev_date = pd.to_datetime(target_date) - pd.Timedelta(days=1)\n",
    "prev_date = prev_date.strftime('%Y-%m-%d')\n",
    "if prev_date not in close_only.columns:\n",
    "    prev_date = close_only.columns[close_only.columns.get_loc(target_date) - 1]\n",
    "\n",
    "close_data['현재종가'] = close_data[target_date]\n",
    "close_data['이전종가'] = close_data[prev_date]\n",
    "close_data['등락률'] = ((close_data['현재종가'] / close_data['이전종가']) - 1) * 100\n",
    "\n",
    "volume_data = stock_data[stock_data['Price'] == 'Volume'].copy()\n",
    "volume_only = volume_data[date_cols].astype(float)\n",
    "if prev_date not in volume_only.columns:\n",
    "    prev_date = volume_only.columns[volume_only.columns.get_loc(target_date) - 1]\n",
    "volume_data['현재거래량'] = volume_data[target_date]\n",
    "volume_data['이전거래량'] = volume_data[prev_date]\n",
    "volume_data['거래량변화율'] = ((volume_data['현재거래량'] / volume_data['이전거래량']) - 1) * 100\n",
    "\n",
    "merged = pd.merge(\n",
    "    close_data[['Ticker','종목명','등락률']],\n",
    "    volume_data[['Ticker','거래량변화율']],\n",
    "    on='Ticker'\n",
    ")\n",
    "\n",
    "filtered = merged[(merged['등락률'] >= (price_threshold * 100)) & (merged['거래량변화율'] >= (volume_threshold * 100))]\n",
    "result = filtered['종목명'].tolist()\n",
    "print(result)"
   ]
  },
  {
   "cell_type": "code",
   "execution_count": null,
   "id": "3b1621e8",
   "metadata": {},
   "outputs": [],
   "source": []
  }
 ],
 "metadata": {
  "kernelspec": {
   "display_name": ".venv",
   "language": "python",
   "name": "python3"
  },
  "language_info": {
   "codemirror_mode": {
    "name": "ipython",
    "version": 3
   },
   "file_extension": ".py",
   "mimetype": "text/x-python",
   "name": "python",
   "nbconvert_exporter": "python",
   "pygments_lexer": "ipython3",
   "version": "3.12.3"
  }
 },
 "nbformat": 4,
 "nbformat_minor": 5
}
